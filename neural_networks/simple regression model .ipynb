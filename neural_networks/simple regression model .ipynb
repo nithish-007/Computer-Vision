{
 "cells": [
  {
   "cell_type": "code",
   "execution_count": 4,
   "id": "8491f3bd-2493-4dd3-b6f9-a87a080396fe",
   "metadata": {},
   "outputs": [],
   "source": [
    "import numpy as np"
   ]
  },
  {
   "cell_type": "code",
   "execution_count": 18,
   "id": "01e0efe5-2adc-45f1-9ec3-a5e6cc250496",
   "metadata": {},
   "outputs": [],
   "source": [
    "np.random.seed(42)\n",
    "\n",
    "# to generate random inputs\n",
    "def generate_data(num_samples=100):\n",
    "    x1 = np.random.randint(1, 100, num_samples)\n",
    "    x2 = np.random.randint(1, 100, num_samples)\n",
    "    y = 0.3 * x1 + 0.7 * x2 + 100\n",
    "    return x1, x2, y\n",
    "\n",
    "x1, x2, y = generate_data(1000)\n",
    "# Normalize input data\n",
    "x1 = x1 / 100.0\n",
    "x2 = x2 / 100.0\n",
    "\n",
    "X = np.column_stack((x1, x2))\n",
    "y = y.reshape(-1, 1)  # reshape y to be a column vector"
   ]
  },
  {
   "cell_type": "code",
   "execution_count": 19,
   "id": "0d4f3d5d-8c8a-45df-ae88-67acf7fa01eb",
   "metadata": {},
   "outputs": [
    {
     "data": {
      "text/plain": [
       "((1000, 2), (1000, 1))"
      ]
     },
     "execution_count": 19,
     "metadata": {},
     "output_type": "execute_result"
    }
   ],
   "source": [
    "X.shape, y.shape"
   ]
  },
  {
   "cell_type": "code",
   "execution_count": 20,
   "id": "80c15da6-4cd5-48a3-b226-3b5091c450af",
   "metadata": {},
   "outputs": [
    {
     "data": {
      "text/plain": [
       "1000"
      ]
     },
     "execution_count": 20,
     "metadata": {},
     "output_type": "execute_result"
    }
   ],
   "source": [
    "y.shape[0]"
   ]
  },
  {
   "cell_type": "code",
   "execution_count": 21,
   "id": "60368072-7eca-41aa-858d-e058ee92a4ce",
   "metadata": {},
   "outputs": [],
   "source": [
    "# Neural network parameters\n",
    "input_size = 2\n",
    "hidden_size = 10\n",
    "output_size = 1\n",
    "learning_rate = 0.01\n",
    "epochs = 1000"
   ]
  },
  {
   "cell_type": "code",
   "execution_count": 22,
   "id": "51033ca4-93d3-4e91-a2b6-e45b47008c4e",
   "metadata": {},
   "outputs": [],
   "source": [
    "# Initialize weights and biases\n",
    "np.random.seed(42)\n",
    "W1 = np.random.randn(input_size, hidden_size)\n",
    "b1 = np.zeros((1, hidden_size))\n",
    "W2 = np.random.randn(hidden_size, output_size)\n",
    "b2 = np.zeros((1, output_size))\n"
   ]
  },
  {
   "cell_type": "code",
   "execution_count": 23,
   "id": "858a1ad2-443c-46f4-867d-936decb3559b",
   "metadata": {},
   "outputs": [],
   "source": [
    "# Activation function and its derivative\n",
    "def relu(x):\n",
    "    return np.maximum(0, x)\n",
    "\n",
    "def relu_derivative(x):\n",
    "    return (x > 0).astype(float)\n",
    "\n",
    "# Loss function (L2 loss)\n",
    "def l2_loss(y_true, y_pred):\n",
    "    return np.mean((y_true - y_pred) ** 2)\n"
   ]
  },
  {
   "cell_type": "code",
   "execution_count": 26,
   "id": "80fd6d42-3561-4661-9ea9-bb18374559eb",
   "metadata": {},
   "outputs": [
    {
     "name": "stdout",
     "output_type": "stream",
     "text": [
      "Epoch 0, Loss: 23021.340373908843\n",
      "Epoch 100, Loss: 926.2780187676717\n",
      "Epoch 200, Loss: 511.0225148471016\n",
      "Epoch 300, Loss: 503.7177568535426\n",
      "Epoch 400, Loss: 490.5504106828776\n",
      "Epoch 500, Loss: 102.05186863403254\n",
      "Epoch 600, Loss: 46.815037943822595\n",
      "Epoch 700, Loss: 35.568789297382395\n",
      "Epoch 800, Loss: 24.78589917101314\n",
      "Epoch 900, Loss: 19.719687533419467\n",
      "Final Loss: 15.406228095187275\n"
     ]
    }
   ],
   "source": [
    "# Training the neural network\n",
    "for epoch in range(epochs):\n",
    "\n",
    "    m = y.shape[0] # num of inputs \n",
    "    # Forward pass\n",
    "    z1 = np.dot(X, W1) + b1\n",
    "    a1 = relu(z1)\n",
    "    z2 = np.dot(a1, W2) + b2\n",
    "    y_pred = z2\n",
    "\n",
    "    # Compute loss\n",
    "    loss = l2_loss(y, y_pred)\n",
    "\n",
    "    # Backward pass\n",
    "    dL_dy_pred = 2 * (y_pred - y) / m\n",
    "    dL_dz2 = dL_dy_pred\n",
    "    dL_dW2 = np.dot(a1.T, dL_dz2)\n",
    "    dL_db2 = np.sum(dL_dz2, axis=0, keepdims=True)\n",
    "\n",
    "    dL_da1 = np.dot(dL_dz2, W2.T)\n",
    "    dL_dz1 = dL_da1 * relu_derivative(z1)\n",
    "    dL_dW1 = np.dot(X.T, dL_dz1)\n",
    "    dL_db1 = np.sum(dL_dz1, axis=0, keepdims=True)\n",
    "\n",
    "    # Update weights and biases\n",
    "    W1 -= learning_rate * dL_dW1\n",
    "    b1 -= learning_rate * dL_db1\n",
    "    W2 -= learning_rate * dL_dW2\n",
    "    b2 -= learning_rate * dL_db2\n",
    "\n",
    "    # Print loss every 100 epochs\n",
    "    if epoch % 100 == 0:\n",
    "        print(f'Epoch {epoch}, Loss: {loss}')\n",
    "\n",
    "# Final predictions\n",
    "final_predictions = np.dot(relu(np.dot(X, W1) + b1), W2) + b2\n",
    "print(f'Final Loss: {l2_loss(y, final_predictions)}')"
   ]
  },
  {
   "cell_type": "code",
   "execution_count": null,
   "id": "6f54fac1-f970-4988-912c-716f7fe388da",
   "metadata": {},
   "outputs": [],
   "source": []
  }
 ],
 "metadata": {
  "kernelspec": {
   "display_name": "Python 3 (ipykernel)",
   "language": "python",
   "name": "python3"
  },
  "language_info": {
   "codemirror_mode": {
    "name": "ipython",
    "version": 3
   },
   "file_extension": ".py",
   "mimetype": "text/x-python",
   "name": "python",
   "nbconvert_exporter": "python",
   "pygments_lexer": "ipython3",
   "version": "3.12.3"
  },
  "widgets": {
   "application/vnd.jupyter.widget-state+json": {
    "state": {},
    "version_major": 2,
    "version_minor": 0
   }
  }
 },
 "nbformat": 4,
 "nbformat_minor": 5
}
